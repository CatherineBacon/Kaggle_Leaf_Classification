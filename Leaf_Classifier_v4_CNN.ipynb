{
 "cells": [
  {
   "cell_type": "code",
   "execution_count": 1,
   "metadata": {
    "collapsed": false
   },
   "outputs": [
    {
     "name": "stderr",
     "output_type": "stream",
     "text": [
      "Using Theano backend.\n",
      "Using gpu device 0: Tesla K80 (CNMeM is disabled, cuDNN 5103)\n",
      "/home/ubuntu/anaconda2/lib/python2.7/site-packages/theano/sandbox/cuda/__init__.py:600: UserWarning: Your cuDNN version is more recent than the one Theano officially supports. If you see any problems, try updating Theano or downgrading cuDNN to version 5.\n",
      "  warnings.warn(warn)\n"
     ]
    }
   ],
   "source": [
    "%matplotlib inline\n",
    "\n",
    "# import libraries\n",
    "import glob\n",
    "import numpy as np\n",
    "import pandas as pd\n",
    "from sklearn import preprocessing\n",
    "from keras.models import Sequential, Model\n",
    "from keras.layers import Dense, Activation, Dropout, Convolution1D, Flatten\n",
    "from keras.callbacks import EarlyStopping\n",
    "from keras.layers.noise import GaussianNoise\n",
    "from sklearn.decomposition import PCA\n",
    "from keras.preprocessing import image\n",
    "from scipy import misc\n",
    "from keras.layers import Convolution2D, MaxPooling2D\n",
    "from matplotlib import pyplot as plt\n",
    "from keras.preprocessing.image import ImageDataGenerator\n",
    "from keras.applications.vgg16 import VGG16"
   ]
  },
  {
   "cell_type": "code",
   "execution_count": 2,
   "metadata": {
    "collapsed": false
   },
   "outputs": [
    {
     "data": {
      "text/plain": [
       "(271, 654)"
      ]
     },
     "execution_count": 2,
     "metadata": {},
     "output_type": "execute_result"
    }
   ],
   "source": [
    "# read in images\n",
    "images = glob.glob('images/*.jpg')\n",
    "images = {int(x[7:-4]): misc.imread(x) for x in images}"
   ]
  },
  {
   "cell_type": "code",
   "execution_count": 31,
   "metadata": {
    "collapsed": false
   },
   "outputs": [],
   "source": [
    "# read in data\n",
    "X_train = pd.read_csv('train.csv')\n",
    "X_test = pd.read_csv('test.csv')\n",
    "\n",
    "Y_train = X_train['species']\n",
    "X_train = X_train.drop('species', axis=1)\n",
    "\n",
    "X_train['image'] = X_train['id'].map(lambda x: images[x])\n",
    "X_test['image'] = X_test['id'].map(lambda x: images[x])\n",
    "\n",
    "X_train = X_train.drop('id', axis=1)\n",
    "#X_test = X_test.drop('id', axis=1)\n",
    "\n",
    "# one hot encode species\n",
    "lb = preprocessing.LabelBinarizer()\n",
    "lb.fit(Y_train)\n",
    "\n",
    "# Faff around with images\n",
    "train_images = X_train['image'].map(lambda x: misc.imresize(x,(224,224)))\n",
    "train_images = train_images.map(lambda x: x.reshape(1, x.shape[0], x.shape[1]))\n",
    "train_images = np.array(train_images.tolist())\n",
    "blank_channels = np.zeros((train_images.shape[0], 2, 224, 224))\n",
    "train_images = np.concatenate((train_images, blank_channels), axis = 1)\n",
    "\n",
    "test_images = X_test['image'].map(lambda x: misc.imresize(x,(224,224)))\n",
    "test_images = test_images.map(lambda x: x.reshape(1, x.shape[0], x.shape[1]))\n",
    "test_images = np.array(test_images.tolist())\n",
    "blank_channels = np.zeros((test_images.shape[0], 2, 224, 224))\n",
    "test_images = np.concatenate((test_images, blank_channels), axis = 1)"
   ]
  },
  {
   "cell_type": "code",
   "execution_count": 25,
   "metadata": {
    "collapsed": false
   },
   "outputs": [
    {
     "data": {
      "image/png": "[encoded data removed]",
      "text/plain": [
       "<matplotlib.figure.Figure at 0x7fa27439c750>"
      ]
     },
     "metadata": {},
     "output_type": "display_data"
    }
   ],
   "source": [
    "img = train_images[0,0,:,:]\n",
    "plt.imshow(img, interpolation='nearest')\n",
    "plt.show()"
   ]
  },
  {
   "cell_type": "code",
   "execution_count": 9,
   "metadata": {
    "collapsed": false
   },
   "outputs": [
    {
     "name": "stdout",
     "output_type": "stream",
     "text": [
      "Train on 792 samples, validate on 198 samples\n",
      "Epoch 1/10\n",
      "792/792 [==============================] - 21s - loss: 4.6406 - acc: 0.2235 - val_loss: 2.3275 - val_acc: 0.5758\n",
      "Epoch 2/10\n",
      "792/792 [==============================] - 21s - loss: 1.3789 - acc: 0.7374 - val_loss: 1.9082 - val_acc: 0.6970\n",
      "Epoch 3/10\n",
      "792/792 [==============================] - 21s - loss: 0.9637 - acc: 0.8396 - val_loss: 1.6962 - val_acc: 0.7172\n",
      "Epoch 4/10\n",
      "792/792 [==============================] - 21s - loss: 0.7808 - acc: 0.9078 - val_loss: 1.6545 - val_acc: 0.7828\n",
      "Epoch 5/10\n",
      "792/792 [==============================] - 21s - loss: 0.6920 - acc: 0.9306 - val_loss: 1.4979 - val_acc: 0.8283\n",
      "Epoch 6/10\n",
      "792/792 [==============================] - 21s - loss: 0.6515 - acc: 0.9482 - val_loss: 1.4978 - val_acc: 0.8131\n",
      "Epoch 7/10\n",
      "792/792 [==============================] - 21s - loss: 0.6173 - acc: 0.9571 - val_loss: 1.4871 - val_acc: 0.8283\n",
      "Epoch 8/10\n",
      "792/792 [==============================] - 21s - loss: 0.5984 - acc: 0.9646 - val_loss: 1.4398 - val_acc: 0.8333\n",
      "Epoch 9/10\n",
      "792/792 [==============================] - 21s - loss: 0.5855 - acc: 0.9621 - val_loss: 1.4355 - val_acc: 0.8434\n",
      "Epoch 10/10\n",
      "792/792 [==============================] - 21s - loss: 0.5871 - acc: 0.9634 - val_loss: 1.4473 - val_acc: 0.8485\n"
     ]
    },
    {
     "data": {
      "text/plain": [
       "<keras.callbacks.History at 0x7f1f881333d0>"
      ]
     },
     "execution_count": 9,
     "metadata": {},
     "output_type": "execute_result"
    }
   ],
   "source": [
    "vgg = VGG16()\n",
    "for layer in vgg.layers:\n",
    "    layer.trainable = False\n",
    "    \n",
    "x = vgg.get_layer('fc2').output\n",
    "\n",
    "predictions = Dense(lb.classes_.size, activation='softmax')(x)\n",
    "model = Model(input=vgg.inputs, output=predictions)\n",
    "\n",
    "model.compile(\n",
    "    optimizer='adam',\n",
    "    loss='categorical_crossentropy',\n",
    "    metrics=['accuracy']\n",
    ")\n",
    "\n",
    "model.fit(\n",
    "    train_images,\n",
    "    lb.transform(Y_train), \n",
    "    validation_split=0.2,\n",
    "    nb_epoch=10\n",
    ")"
   ]
  },
  {
   "cell_type": "code",
   "execution_count": 27,
   "metadata": {
    "collapsed": false
   },
   "outputs": [],
   "source": [
    "from keras.models import load_model\n",
    "model = load_model('v4-cnn.h5')"
   ]
  },
  {
   "cell_type": "code",
   "execution_count": 29,
   "metadata": {
    "collapsed": false
   },
   "outputs": [],
   "source": [
    "predictions = model.predict(test_images)"
   ]
  },
  {
   "cell_type": "code",
   "execution_count": 30,
   "metadata": {
    "collapsed": false
   },
   "outputs": [
    {
     "ename": "NameError",
     "evalue": "name 'test' is not defined",
     "output_type": "error",
     "traceback": [
      "\u001b[0;31m---------------------------------------------------------------------------\u001b[0m",
      "\u001b[0;31mNameError\u001b[0m                                 Traceback (most recent call last)",
      "\u001b[0;32m<ipython-input-30-50d6e8196082>\u001b[0m in \u001b[0;36m<module>\u001b[0;34m()\u001b[0m\n\u001b[0;32m----> 1\u001b[0;31m \u001b[0mlabels\u001b[0m \u001b[0;34m=\u001b[0m \u001b[0mtest\u001b[0m\u001b[0;34m[\u001b[0m\u001b[0;34m'id'\u001b[0m\u001b[0;34m]\u001b[0m\u001b[0;34m\u001b[0m\u001b[0m\n\u001b[0m\u001b[1;32m      2\u001b[0m \u001b[0mheaders\u001b[0m \u001b[0;34m=\u001b[0m \u001b[0mlb\u001b[0m\u001b[0;34m.\u001b[0m\u001b[0mclasses_\u001b[0m\u001b[0;34m.\u001b[0m\u001b[0mtolist\u001b[0m\u001b[0;34m(\u001b[0m\u001b[0;34m)\u001b[0m\u001b[0;34m\u001b[0m\u001b[0m\n\u001b[1;32m      3\u001b[0m \u001b[0mheaders\u001b[0m \u001b[0;34m=\u001b[0m \u001b[0;34m[\u001b[0m\u001b[0;34m'id'\u001b[0m\u001b[0;34m]\u001b[0m\u001b[0;34m+\u001b[0m\u001b[0mheaders\u001b[0m\u001b[0;34m\u001b[0m\u001b[0m\n\u001b[1;32m      4\u001b[0m \u001b[0mresults\u001b[0m \u001b[0;34m=\u001b[0m \u001b[0mpd\u001b[0m\u001b[0;34m.\u001b[0m\u001b[0mDataFrame\u001b[0m\u001b[0;34m(\u001b[0m\u001b[0mdata\u001b[0m\u001b[0;34m=\u001b[0m\u001b[0mpredictions\u001b[0m\u001b[0;34m)\u001b[0m\u001b[0;34m\u001b[0m\u001b[0m\n\u001b[1;32m      5\u001b[0m \u001b[0mlabels\u001b[0m \u001b[0;34m=\u001b[0m \u001b[0mpd\u001b[0m\u001b[0;34m.\u001b[0m\u001b[0mDataFrame\u001b[0m\u001b[0;34m(\u001b[0m\u001b[0mlabels\u001b[0m\u001b[0;34m)\u001b[0m\u001b[0;34m\u001b[0m\u001b[0m\n",
      "\u001b[0;31mNameError\u001b[0m: name 'test' is not defined"
     ]
    }
   ],
   "source": [
    "labels = X_test['id']\n",
    "headers = lb.classes_.tolist()\n",
    "headers = ['id']+headers\n",
    "results = pd.DataFrame(data=predictions)\n",
    "labels = pd.DataFrame(labels)\n",
    "results = pd.concat([labels, results], axis=1)\n",
    "results.columns = headers\n",
    "results.to_csv('results.csv', index=False)"
   ]
  }
 ],
 "metadata": {
  "anaconda-cloud": {},
  "kernelspec": {
   "display_name": "Python [conda root]",
   "language": "python",
   "name": "conda-root-py"
  },
  "language_info": {
   "codemirror_mode": {
    "name": "ipython",
    "version": 2
   },
   "file_extension": ".py",
   "mimetype": "text/x-python",
   "name": "python",
   "nbconvert_exporter": "python",
   "pygments_lexer": "ipython2",
   "version": "2.7.12"
  }
 },
 "nbformat": 4,
 "nbformat_minor": 1
}
