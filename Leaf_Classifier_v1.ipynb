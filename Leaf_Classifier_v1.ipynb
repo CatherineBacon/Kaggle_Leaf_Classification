{
 "cells": [
  {
   "cell_type": "code",
   "execution_count": 1,
   "metadata": {
    "collapsed": false
   },
   "outputs": [],
   "source": [
    "# import libraries\n",
    "import numpy as np\n",
    "import pandas as pd"
   ]
  },
  {
   "cell_type": "code",
   "execution_count": 2,
   "metadata": {
    "collapsed": false
   },
   "outputs": [],
   "source": [
    "# read in data\n",
    "\n",
    "datafile = pd.read_csv('train.csv')\n",
    "test = pd.read_csv('test.csv')"
   ]
  },
  {
   "cell_type": "code",
   "execution_count": 3,
   "metadata": {
    "collapsed": false
   },
   "outputs": [
    {
     "data": {
      "text/html": [
       "<div>\n",
       "<table border=\"1\" class=\"dataframe\">\n",
       "  <thead>\n",
       "    <tr style=\"text-align: right;\">\n",
       "      <th></th>\n",
       "      <th>id</th>\n",
       "      <th>margin1</th>\n",
       "      <th>margin2</th>\n",
       "      <th>margin3</th>\n",
       "      <th>margin4</th>\n",
       "      <th>margin5</th>\n",
       "      <th>margin6</th>\n",
       "      <th>margin7</th>\n",
       "      <th>margin8</th>\n",
       "      <th>margin9</th>\n",
       "      <th>...</th>\n",
       "      <th>texture55</th>\n",
       "      <th>texture56</th>\n",
       "      <th>texture57</th>\n",
       "      <th>texture58</th>\n",
       "      <th>texture59</th>\n",
       "      <th>texture60</th>\n",
       "      <th>texture61</th>\n",
       "      <th>texture62</th>\n",
       "      <th>texture63</th>\n",
       "      <th>texture64</th>\n",
       "    </tr>\n",
       "  </thead>\n",
       "  <tbody>\n",
       "    <tr>\n",
       "      <th>0</th>\n",
       "      <td>4</td>\n",
       "      <td>0.019531</td>\n",
       "      <td>0.009766</td>\n",
       "      <td>0.078125</td>\n",
       "      <td>0.011719</td>\n",
       "      <td>0.003906</td>\n",
       "      <td>0.015625</td>\n",
       "      <td>0.005859</td>\n",
       "      <td>0.0</td>\n",
       "      <td>0.005859</td>\n",
       "      <td>...</td>\n",
       "      <td>0.006836</td>\n",
       "      <td>0.000000</td>\n",
       "      <td>0.015625</td>\n",
       "      <td>0.000977</td>\n",
       "      <td>0.015625</td>\n",
       "      <td>0.0</td>\n",
       "      <td>0.0</td>\n",
       "      <td>0.000000</td>\n",
       "      <td>0.003906</td>\n",
       "      <td>0.053711</td>\n",
       "    </tr>\n",
       "    <tr>\n",
       "      <th>1</th>\n",
       "      <td>7</td>\n",
       "      <td>0.007812</td>\n",
       "      <td>0.005859</td>\n",
       "      <td>0.064453</td>\n",
       "      <td>0.009766</td>\n",
       "      <td>0.003906</td>\n",
       "      <td>0.013672</td>\n",
       "      <td>0.007812</td>\n",
       "      <td>0.0</td>\n",
       "      <td>0.033203</td>\n",
       "      <td>...</td>\n",
       "      <td>0.000000</td>\n",
       "      <td>0.000000</td>\n",
       "      <td>0.006836</td>\n",
       "      <td>0.001953</td>\n",
       "      <td>0.013672</td>\n",
       "      <td>0.0</td>\n",
       "      <td>0.0</td>\n",
       "      <td>0.000977</td>\n",
       "      <td>0.037109</td>\n",
       "      <td>0.044922</td>\n",
       "    </tr>\n",
       "    <tr>\n",
       "      <th>2</th>\n",
       "      <td>9</td>\n",
       "      <td>0.000000</td>\n",
       "      <td>0.000000</td>\n",
       "      <td>0.001953</td>\n",
       "      <td>0.021484</td>\n",
       "      <td>0.041016</td>\n",
       "      <td>0.000000</td>\n",
       "      <td>0.023438</td>\n",
       "      <td>0.0</td>\n",
       "      <td>0.011719</td>\n",
       "      <td>...</td>\n",
       "      <td>0.128910</td>\n",
       "      <td>0.000000</td>\n",
       "      <td>0.000977</td>\n",
       "      <td>0.000000</td>\n",
       "      <td>0.000000</td>\n",
       "      <td>0.0</td>\n",
       "      <td>0.0</td>\n",
       "      <td>0.015625</td>\n",
       "      <td>0.000000</td>\n",
       "      <td>0.000000</td>\n",
       "    </tr>\n",
       "    <tr>\n",
       "      <th>3</th>\n",
       "      <td>12</td>\n",
       "      <td>0.000000</td>\n",
       "      <td>0.000000</td>\n",
       "      <td>0.009766</td>\n",
       "      <td>0.011719</td>\n",
       "      <td>0.017578</td>\n",
       "      <td>0.000000</td>\n",
       "      <td>0.003906</td>\n",
       "      <td>0.0</td>\n",
       "      <td>0.003906</td>\n",
       "      <td>...</td>\n",
       "      <td>0.012695</td>\n",
       "      <td>0.015625</td>\n",
       "      <td>0.002930</td>\n",
       "      <td>0.036133</td>\n",
       "      <td>0.013672</td>\n",
       "      <td>0.0</td>\n",
       "      <td>0.0</td>\n",
       "      <td>0.089844</td>\n",
       "      <td>0.000000</td>\n",
       "      <td>0.008789</td>\n",
       "    </tr>\n",
       "    <tr>\n",
       "      <th>4</th>\n",
       "      <td>13</td>\n",
       "      <td>0.001953</td>\n",
       "      <td>0.000000</td>\n",
       "      <td>0.015625</td>\n",
       "      <td>0.009766</td>\n",
       "      <td>0.039062</td>\n",
       "      <td>0.000000</td>\n",
       "      <td>0.009766</td>\n",
       "      <td>0.0</td>\n",
       "      <td>0.005859</td>\n",
       "      <td>...</td>\n",
       "      <td>0.000000</td>\n",
       "      <td>0.042969</td>\n",
       "      <td>0.016602</td>\n",
       "      <td>0.010742</td>\n",
       "      <td>0.041016</td>\n",
       "      <td>0.0</td>\n",
       "      <td>0.0</td>\n",
       "      <td>0.007812</td>\n",
       "      <td>0.009766</td>\n",
       "      <td>0.007812</td>\n",
       "    </tr>\n",
       "  </tbody>\n",
       "</table>\n",
       "<p>5 rows × 193 columns</p>\n",
       "</div>"
      ],
      "text/plain": [
       "   id   margin1   margin2   margin3   margin4   margin5   margin6   margin7  \\\n",
       "0   4  0.019531  0.009766  0.078125  0.011719  0.003906  0.015625  0.005859   \n",
       "1   7  0.007812  0.005859  0.064453  0.009766  0.003906  0.013672  0.007812   \n",
       "2   9  0.000000  0.000000  0.001953  0.021484  0.041016  0.000000  0.023438   \n",
       "3  12  0.000000  0.000000  0.009766  0.011719  0.017578  0.000000  0.003906   \n",
       "4  13  0.001953  0.000000  0.015625  0.009766  0.039062  0.000000  0.009766   \n",
       "\n",
       "   margin8   margin9    ...      texture55  texture56  texture57  texture58  \\\n",
       "0      0.0  0.005859    ...       0.006836   0.000000   0.015625   0.000977   \n",
       "1      0.0  0.033203    ...       0.000000   0.000000   0.006836   0.001953   \n",
       "2      0.0  0.011719    ...       0.128910   0.000000   0.000977   0.000000   \n",
       "3      0.0  0.003906    ...       0.012695   0.015625   0.002930   0.036133   \n",
       "4      0.0  0.005859    ...       0.000000   0.042969   0.016602   0.010742   \n",
       "\n",
       "   texture59  texture60  texture61  texture62  texture63  texture64  \n",
       "0   0.015625        0.0        0.0   0.000000   0.003906   0.053711  \n",
       "1   0.013672        0.0        0.0   0.000977   0.037109   0.044922  \n",
       "2   0.000000        0.0        0.0   0.015625   0.000000   0.000000  \n",
       "3   0.013672        0.0        0.0   0.089844   0.000000   0.008789  \n",
       "4   0.041016        0.0        0.0   0.007812   0.009766   0.007812  \n",
       "\n",
       "[5 rows x 193 columns]"
      ]
     },
     "execution_count": 3,
     "metadata": {},
     "output_type": "execute_result"
    }
   ],
   "source": [
    "test.head()"
   ]
  },
  {
   "cell_type": "code",
   "execution_count": 4,
   "metadata": {
    "collapsed": false
   },
   "outputs": [],
   "source": [
    "species = datafile['species']\n",
    "X_train = datafile.drop('species', axis=1)"
   ]
  },
  {
   "cell_type": "code",
   "execution_count": 5,
   "metadata": {
    "collapsed": false
   },
   "outputs": [],
   "source": [
    "# not looking at actual images for first pass, so drop id column from both test and train\n",
    "X_train = X_train.drop('id', axis=1)\n",
    "X_test = test.drop('id', axis=1)"
   ]
  },
  {
   "cell_type": "code",
   "execution_count": 6,
   "metadata": {
    "collapsed": false
   },
   "outputs": [
    {
     "data": {
      "text/plain": [
       "array(['Acer_Capillipes', 'Acer_Circinatum', 'Acer_Mono', 'Acer_Opalus',\n",
       "       'Acer_Palmatum', 'Acer_Pictum', 'Acer_Platanoids', 'Acer_Rubrum',\n",
       "       'Acer_Rufinerve', 'Acer_Saccharinum', 'Alnus_Cordata',\n",
       "       'Alnus_Maximowiczii', 'Alnus_Rubra', 'Alnus_Sieboldiana',\n",
       "       'Alnus_Viridis', 'Arundinaria_Simonii', 'Betula_Austrosinensis',\n",
       "       'Betula_Pendula', 'Callicarpa_Bodinieri', 'Castanea_Sativa',\n",
       "       'Celtis_Koraiensis', 'Cercis_Siliquastrum', 'Cornus_Chinensis',\n",
       "       'Cornus_Controversa', 'Cornus_Macrophylla', 'Cotinus_Coggygria',\n",
       "       'Crataegus_Monogyna', 'Cytisus_Battandieri',\n",
       "       'Eucalyptus_Glaucescens', 'Eucalyptus_Neglecta',\n",
       "       'Eucalyptus_Urnigera', 'Fagus_Sylvatica', 'Ginkgo_Biloba',\n",
       "       'Ilex_Aquifolium', 'Ilex_Cornuta', 'Liquidambar_Styraciflua',\n",
       "       'Liriodendron_Tulipifera', 'Lithocarpus_Cleistocarpus',\n",
       "       'Lithocarpus_Edulis', 'Magnolia_Heptapeta', 'Magnolia_Salicifolia',\n",
       "       'Morus_Nigra', 'Olea_Europaea', 'Phildelphus', 'Populus_Adenopoda',\n",
       "       'Populus_Grandidentata', 'Populus_Nigra', 'Prunus_Avium',\n",
       "       'Prunus_X_Shmittii', 'Pterocarya_Stenoptera', 'Quercus_Afares',\n",
       "       'Quercus_Agrifolia', 'Quercus_Alnifolia', 'Quercus_Brantii',\n",
       "       'Quercus_Canariensis', 'Quercus_Castaneifolia', 'Quercus_Cerris',\n",
       "       'Quercus_Chrysolepis', 'Quercus_Coccifera', 'Quercus_Coccinea',\n",
       "       'Quercus_Crassifolia', 'Quercus_Crassipes', 'Quercus_Dolicholepis',\n",
       "       'Quercus_Ellipsoidalis', 'Quercus_Greggii', 'Quercus_Hartwissiana',\n",
       "       'Quercus_Ilex', 'Quercus_Imbricaria', 'Quercus_Infectoria_sub',\n",
       "       'Quercus_Kewensis', 'Quercus_Nigra', 'Quercus_Palustris',\n",
       "       'Quercus_Phellos', 'Quercus_Phillyraeoides', 'Quercus_Pontica',\n",
       "       'Quercus_Pubescens', 'Quercus_Pyrenaica', 'Quercus_Rhysophylla',\n",
       "       'Quercus_Rubra', 'Quercus_Semecarpifolia', 'Quercus_Shumardii',\n",
       "       'Quercus_Suber', 'Quercus_Texana', 'Quercus_Trojana',\n",
       "       'Quercus_Variabilis', 'Quercus_Vulcanica', 'Quercus_x_Hispanica',\n",
       "       'Quercus_x_Turneri', 'Rhododendron_x_Russellianum',\n",
       "       'Salix_Fragilis', 'Salix_Intergra', 'Sorbus_Aria', 'Tilia_Oliveri',\n",
       "       'Tilia_Platyphyllos', 'Tilia_Tomentosa', 'Ulmus_Bergmanniana',\n",
       "       'Viburnum_Tinus', 'Viburnum_x_Rhytidophylloides', 'Zelkova_Serrata'], \n",
       "      dtype='|S28')"
      ]
     },
     "execution_count": 6,
     "metadata": {},
     "output_type": "execute_result"
    }
   ],
   "source": [
    "# one hot encode species\n",
    "from sklearn import preprocessing\n",
    "lb = preprocessing.LabelBinarizer()\n",
    "lb.fit(species)\n",
    "lb.classes_"
   ]
  },
  {
   "cell_type": "code",
   "execution_count": 8,
   "metadata": {
    "collapsed": false
   },
   "outputs": [],
   "source": [
    "# model\n",
    "# start with random forest\n",
    "from sklearn.ensemble import RandomForestClassifier\n",
    "from sklearn.grid_search import GridSearchCV"
   ]
  },
  {
   "cell_type": "code",
   "execution_count": null,
   "metadata": {
    "collapsed": false
   },
   "outputs": [],
   "source": [
    "forest = RandomForestClassifier(oob_score=True)\n",
    "\n",
    "param_grid = {\n",
    "    'n_estimators': [10, 30, 100, 300, 600]\n",
    "}\n",
    "\n",
    "model = GridSearchCV(forest, param_grid, cv=5)\n",
    "\n",
    "model.fit(X_train, species)\n",
    "\n",
    "print(model.score(X_train, species))\n",
    "print(model.best_score_)\n",
    "print(model.best_params_)"
   ]
  },
  {
   "cell_type": "code",
   "execution_count": 63,
   "metadata": {
    "collapsed": true
   },
   "outputs": [],
   "source": [
    "predictions = model.predict_proba(X_test)"
   ]
  },
  {
   "cell_type": "code",
   "execution_count": 96,
   "metadata": {
    "collapsed": false
   },
   "outputs": [
    {
     "data": {
      "text/plain": [
       "array([[ 0.        ,  0.        ,  0.        ,  0.        ,  0.00333333,\n",
       "         0.00333333,  0.        ,  0.        ,  0.        ,  0.        ,\n",
       "         0.00333333,  0.        ,  0.        ,  0.        ,  0.        ,\n",
       "         0.        ,  0.02333333,  0.        ,  0.00333333,  0.        ,\n",
       "         0.        ,  0.00666667,  0.        ,  0.        ,  0.        ,\n",
       "         0.        ,  0.00333333,  0.        ,  0.        ,  0.        ,\n",
       "         0.        ,  0.        ,  0.        ,  0.        ,  0.        ,\n",
       "         0.00666667,  0.        ,  0.        ,  0.        ,  0.        ,\n",
       "         0.        ,  0.00333333,  0.00333333,  0.        ,  0.00666667,\n",
       "         0.        ,  0.09666667,  0.        ,  0.        ,  0.        ,\n",
       "         0.        ,  0.46      ,  0.        ,  0.00333333,  0.00333333,\n",
       "         0.01      ,  0.06666667,  0.        ,  0.        ,  0.        ,\n",
       "         0.        ,  0.        ,  0.        ,  0.        ,  0.04666667,\n",
       "         0.        ,  0.00333333,  0.        ,  0.        ,  0.        ,\n",
       "         0.        ,  0.        ,  0.00666667,  0.        ,  0.02333333,\n",
       "         0.06333333,  0.        ,  0.00666667,  0.02666667,  0.        ,\n",
       "         0.        ,  0.        ,  0.        ,  0.07      ,  0.02666667,\n",
       "         0.        ,  0.        ,  0.        ,  0.01333333,  0.        ,\n",
       "         0.        ,  0.        ,  0.        ,  0.        ,  0.        ,\n",
       "         0.        ,  0.        ,  0.00666667,  0.        ],\n",
       "       [ 0.00333333,  0.        ,  0.03666667,  0.02666667,  0.        ,\n",
       "         0.        ,  0.08666667,  0.        ,  0.        ,  0.01      ,\n",
       "         0.        ,  0.00333333,  0.        ,  0.        ,  0.        ,\n",
       "         0.        ,  0.        ,  0.00333333,  0.        ,  0.03666667,\n",
       "         0.        ,  0.        ,  0.        ,  0.        ,  0.        ,\n",
       "         0.        ,  0.        ,  0.        ,  0.        ,  0.00333333,\n",
       "         0.        ,  0.        ,  0.        ,  0.        ,  0.01      ,\n",
       "         0.        ,  0.02333333,  0.00333333,  0.00666667,  0.00333333,\n",
       "         0.01666667,  0.00666667,  0.00333333,  0.00666667,  0.00333333,\n",
       "         0.02      ,  0.        ,  0.03666667,  0.        ,  0.        ,\n",
       "         0.37666667,  0.        ,  0.        ,  0.00333333,  0.        ,\n",
       "         0.00333333,  0.        ,  0.00333333,  0.01      ,  0.00666667,\n",
       "         0.00333333,  0.        ,  0.        ,  0.        ,  0.        ,\n",
       "         0.00333333,  0.        ,  0.        ,  0.        ,  0.06      ,\n",
       "         0.        ,  0.        ,  0.        ,  0.        ,  0.        ,\n",
       "         0.        ,  0.03666667,  0.        ,  0.        ,  0.        ,\n",
       "         0.00333333,  0.00333333,  0.01666667,  0.        ,  0.01      ,\n",
       "         0.02      ,  0.00333333,  0.05      ,  0.        ,  0.00666667,\n",
       "         0.00666667,  0.        ,  0.        ,  0.        ,  0.01666667,\n",
       "         0.00333333,  0.00333333,  0.        ,  0.        ],\n",
       "       [ 0.00666667,  0.61      ,  0.        ,  0.        ,  0.02      ,\n",
       "         0.01666667,  0.        ,  0.00333333,  0.01333333,  0.01      ,\n",
       "         0.00333333,  0.        ,  0.00333333,  0.00666667,  0.03333333,\n",
       "         0.        ,  0.09333333,  0.00333333,  0.        ,  0.        ,\n",
       "         0.01333333,  0.        ,  0.        ,  0.        ,  0.        ,\n",
       "         0.00333333,  0.02333333,  0.        ,  0.        ,  0.        ,\n",
       "         0.        ,  0.00333333,  0.01333333,  0.00666667,  0.        ,\n",
       "         0.01666667,  0.        ,  0.        ,  0.        ,  0.        ,\n",
       "         0.        ,  0.01333333,  0.        ,  0.        ,  0.01      ,\n",
       "         0.        ,  0.        ,  0.        ,  0.00666667,  0.00666667,\n",
       "         0.        ,  0.        ,  0.        ,  0.00666667,  0.        ,\n",
       "         0.        ,  0.00333333,  0.        ,  0.        ,  0.        ,\n",
       "         0.00666667,  0.        ,  0.        ,  0.        ,  0.        ,\n",
       "         0.        ,  0.        ,  0.        ,  0.00666667,  0.        ,\n",
       "         0.        ,  0.        ,  0.        ,  0.00333333,  0.00333333,\n",
       "         0.00333333,  0.        ,  0.        ,  0.        ,  0.        ,\n",
       "         0.        ,  0.        ,  0.        ,  0.00333333,  0.01333333,\n",
       "         0.        ,  0.        ,  0.        ,  0.        ,  0.        ,\n",
       "         0.        ,  0.00333333,  0.        ,  0.        ,  0.        ,\n",
       "         0.00333333,  0.        ,  0.        ,  0.00333333],\n",
       "       [ 0.00333333,  0.02666667,  0.00666667,  0.02      ,  0.        ,\n",
       "         0.        ,  0.01      ,  0.00333333,  0.00666667,  0.01      ,\n",
       "         0.        ,  0.02      ,  0.03666667,  0.03666667,  0.        ,\n",
       "         0.        ,  0.        ,  0.03333333,  0.        ,  0.25      ,\n",
       "         0.        ,  0.        ,  0.        ,  0.        ,  0.        ,\n",
       "         0.        ,  0.00333333,  0.        ,  0.        ,  0.        ,\n",
       "         0.00333333,  0.        ,  0.00333333,  0.00333333,  0.        ,\n",
       "         0.        ,  0.00666667,  0.        ,  0.00333333,  0.        ,\n",
       "         0.00333333,  0.02      ,  0.        ,  0.00333333,  0.        ,\n",
       "         0.01      ,  0.        ,  0.08666667,  0.03333333,  0.        ,\n",
       "         0.01333333,  0.        ,  0.        ,  0.        ,  0.        ,\n",
       "         0.        ,  0.        ,  0.        ,  0.00666667,  0.02      ,\n",
       "         0.00666667,  0.        ,  0.00333333,  0.04      ,  0.        ,\n",
       "         0.        ,  0.        ,  0.01333333,  0.        ,  0.00333333,\n",
       "         0.        ,  0.02      ,  0.        ,  0.01      ,  0.        ,\n",
       "         0.        ,  0.        ,  0.00333333,  0.        ,  0.00333333,\n",
       "         0.        ,  0.00333333,  0.00333333,  0.00666667,  0.        ,\n",
       "         0.01666667,  0.00333333,  0.        ,  0.        ,  0.00333333,\n",
       "         0.00666667,  0.01      ,  0.00333333,  0.        ,  0.05333333,\n",
       "         0.06333333,  0.00666667,  0.        ,  0.03333333]])"
      ]
     },
     "execution_count": 96,
     "metadata": {},
     "output_type": "execute_result"
    }
   ],
   "source": [
    "predictions[:4]"
   ]
  },
  {
   "cell_type": "code",
   "execution_count": 106,
   "metadata": {
    "collapsed": false
   },
   "outputs": [],
   "source": [
    "labels = test['id']\n",
    "headers = lb.classes_.tolist()\n",
    "headers = ['id']+headers"
   ]
  },
  {
   "cell_type": "code",
   "execution_count": 99,
   "metadata": {
    "collapsed": false
   },
   "outputs": [],
   "source": [
    "results = pd.DataFrame(data=predictions)\n",
    "labels = pd.DataFrame(labels)\n",
    "results = pd.concat([labels, results], axis=1)"
   ]
  },
  {
   "cell_type": "code",
   "execution_count": 107,
   "metadata": {
    "collapsed": false
   },
   "outputs": [],
   "source": [
    "results.columns = headers"
   ]
  },
  {
   "cell_type": "code",
   "execution_count": 111,
   "metadata": {
    "collapsed": true
   },
   "outputs": [],
   "source": [
    "results.to_csv('results.csv', index=False)"
   ]
  }
 ],
 "metadata": {
  "anaconda-cloud": {},
  "kernelspec": {
   "display_name": "Python [conda root]",
   "language": "python",
   "name": "conda-root-py"
  },
  "language_info": {
   "codemirror_mode": {
    "name": "ipython",
    "version": 2
   },
   "file_extension": ".py",
   "mimetype": "text/x-python",
   "name": "python",
   "nbconvert_exporter": "python",
   "pygments_lexer": "ipython2",
   "version": "2.7.12"
  }
 },
 "nbformat": 4,
 "nbformat_minor": 1
}
