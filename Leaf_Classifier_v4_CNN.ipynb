{
 "cells": [
  {
   "cell_type": "code",
   "execution_count": 1,
   "metadata": {
    "collapsed": false
   },
   "outputs": [
    {
     "name": "stderr",
     "output_type": "stream",
     "text": [
      "Using TensorFlow backend.\n"
     ]
    }
   ],
   "source": [
    "# import libraries\n",
    "import glob\n",
    "import numpy as np\n",
    "import pandas as pd\n",
    "from sklearn import preprocessing\n",
    "from keras.models import Sequential\n",
    "from keras.layers import Dense, Activation, Dropout, Convolution1D, Flatten\n",
    "from keras.callbacks import EarlyStopping\n",
    "from keras.layers.noise import GaussianNoise\n",
    "from sklearn.decomposition import PCA\n",
    "from keras.preprocessing import image\n",
    "from scipy import misc\n",
    "from keras.layers import Convolution2D, MaxPooling2D"
   ]
  },
  {
   "cell_type": "code",
   "execution_count": 2,
   "metadata": {
    "collapsed": false
   },
   "outputs": [
    {
     "data": {
      "text/plain": [
       "(271, 654)"
      ]
     },
     "execution_count": 2,
     "metadata": {},
     "output_type": "execute_result"
    }
   ],
   "source": [
    "# read in images\n",
    "images = glob.glob('images/*.jpg')\n",
    "images = {int(x[7:-4]): misc.imread(x) for x in images}\n",
    "images[1015].shape"
   ]
  },
  {
   "cell_type": "code",
   "execution_count": 3,
   "metadata": {
    "collapsed": false
   },
   "outputs": [
    {
     "data": {
      "text/plain": [
       "LabelBinarizer(neg_label=0, pos_label=1, sparse_output=False)"
      ]
     },
     "execution_count": 3,
     "metadata": {},
     "output_type": "execute_result"
    }
   ],
   "source": [
    "# read in data\n",
    "X_train = pd.read_csv('train.csv')\n",
    "X_test = pd.read_csv('test.csv')\n",
    "\n",
    "Y_train = X_train['species']\n",
    "X_train = X_train.drop('species', axis=1)\n",
    "\n",
    "X_train['image'] = X_train['id'].map(lambda x: images[x])\n",
    "X_test['image'] = X_test['id'].map(lambda x: images[x])\n",
    "\n",
    "X_train = X_train.drop('id', axis=1)\n",
    "X_test = X_test.drop('id', axis=1)\n",
    "\n",
    "# one hot encode species\n",
    "lb = preprocessing.LabelBinarizer()\n",
    "lb.fit(Y_train)"
   ]
  },
  {
   "cell_type": "code",
   "execution_count": 4,
   "metadata": {
    "collapsed": false
   },
   "outputs": [
    {
     "data": {
      "text/plain": [
       "0    [[0, 0, 0, 0, 0, 0, 0, 0, 0, 0, 0, 0, 0, 0, 0,...\n",
       "1    [[0, 0, 0, 0, 0, 0, 0, 0, 0, 0, 0, 0, 0, 0, 0,...\n",
       "2    [[0, 0, 0, 0, 0, 0, 0, 0, 0, 0, 0, 0, 0, 0, 0,...\n",
       "3    [[0, 0, 0, 0, 0, 0, 0, 0, 0, 0, 0, 0, 0, 0, 0,...\n",
       "Name: image, dtype: object"
      ]
     },
     "execution_count": 4,
     "metadata": {},
     "output_type": "execute_result"
    }
   ],
   "source": [
    "temp = X_train['image']\n",
    "temp = temp.map(lambda x: misc.imresize(x,(240,240,1)))\n",
    "temp[:4]"
   ]
  },
  {
   "cell_type": "code",
   "execution_count": 5,
   "metadata": {
    "collapsed": false
   },
   "outputs": [
    {
     "name": "stdout",
     "output_type": "stream",
     "text": [
      "(240, 240)\n",
      "(990,)\n",
      "(240, 240, 1)\n",
      "(990,)\n",
      "(990, 240, 240, 1)\n"
     ]
    }
   ],
   "source": [
    "print(temp[0].shape)\n",
    "print(temp.shape)\n",
    "temp = temp.map(lambda x: x.reshape(x.shape[0], x.shape[1], 1))\n",
    "print(temp[0].shape)\n",
    "print(temp.shape)\n",
    "temp = np.array(temp.tolist())\n",
    "print(temp.shape)"
   ]
  },
  {
   "cell_type": "code",
   "execution_count": null,
   "metadata": {
    "collapsed": false
   },
   "outputs": [
    {
     "name": "stdout",
     "output_type": "stream",
     "text": [
      "Train on 891 samples, validate on 99 samples\n",
      "Epoch 1/200\n",
      "128/891 [===>..........................] - ETA: 420s - loss: 15.5914 - acc: 0.0000e+00"
     ]
    }
   ],
   "source": [
    "model = Sequential([\n",
    "    Convolution2D(32, 3, 3, input_shape=(240, 240, 1)),\n",
    "    Activation('relu'),\n",
    "    Convolution2D(32, 3, 3),\n",
    "    Activation('relu'),\n",
    "    MaxPooling2D((2,2)),\n",
    "    Dropout(0.25),\n",
    "    \n",
    "    Flatten(),\n",
    "    Dense(128),\n",
    "    Activation('relu'),\n",
    "    Dropout(0.25),\n",
    "    Dense(lb.classes_.size),\n",
    "    Activation('softmax'),\n",
    "])\n",
    "\n",
    "\n",
    "model.compile(\n",
    "    optimizer='rmsprop',\n",
    "    loss='categorical_crossentropy',\n",
    "    metrics=['accuracy']\n",
    ")\n",
    "\n",
    "model.fit(\n",
    "    temp,\n",
    "    #temp.as_matrix, \n",
    "    lb.transform(Y_train), \n",
    "    validation_split=0.1,\n",
    "    nb_epoch=200\n",
    ")"
   ]
  },
  {
   "cell_type": "code",
   "execution_count": 9,
   "metadata": {
    "collapsed": false
   },
   "outputs": [
    {
     "name": "stdout",
     "output_type": "stream",
     "text": [
      "594/594 [==============================] - 0s     \n"
     ]
    }
   ],
   "source": [
    "predictions = model.predict_proba(X_test.as_matrix())"
   ]
  },
  {
   "cell_type": "code",
   "execution_count": 10,
   "metadata": {
    "collapsed": false
   },
   "outputs": [],
   "source": [
    "labels = test['id']\n",
    "headers = lb.classes_.tolist()\n",
    "headers = ['id']+headers\n",
    "results = pd.DataFrame(data=predictions)\n",
    "labels = pd.DataFrame(labels)\n",
    "results = pd.concat([labels, results], axis=1)\n",
    "results.columns = headers\n",
    "results.to_csv('results.csv', index=False)"
   ]
  }
 ],
 "metadata": {
  "anaconda-cloud": {},
  "kernelspec": {
   "display_name": "Python [conda root]",
   "language": "python",
   "name": "conda-root-py"
  },
  "language_info": {
   "codemirror_mode": {
    "name": "ipython",
    "version": 2
   },
   "file_extension": ".py",
   "mimetype": "text/x-python",
   "name": "python",
   "nbconvert_exporter": "python",
   "pygments_lexer": "ipython2",
   "version": "2.7.12"
  }
 },
 "nbformat": 4,
 "nbformat_minor": 1
}
